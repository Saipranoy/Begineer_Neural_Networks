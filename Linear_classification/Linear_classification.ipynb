{
  "nbformat": 4,
  "nbformat_minor": 0,
  "metadata": {
    "colab": {
      "name": "Untitled10.ipynb",
      "provenance": [],
      "collapsed_sections": []
    },
    "kernelspec": {
      "name": "python3",
      "display_name": "Python 3"
    }
  },
  "cells": [
    {
      "cell_type": "code",
      "metadata": {
        "id": "zTepBis_Pkyb"
      },
      "source": [
        "import tensorflow as tf\r\n",
        "from tensorflow import keras\r\n",
        "import pandas as pd\r\n",
        "import numpy as np"
      ],
      "execution_count": 1,
      "outputs": []
    },
    {
      "cell_type": "markdown",
      "metadata": {
        "id": "bQaghhM1Ztc_"
      },
      "source": [
        "The following code is to add drive to file path to extract files in google drive"
      ]
    },
    {
      "cell_type": "code",
      "metadata": {
        "colab": {
          "base_uri": "https://localhost:8080/"
        },
        "id": "Y6EMsawZP6Bj",
        "outputId": "3882a5a8-d66d-4f16-f612-c5eef14f69de"
      },
      "source": [
        "!apt-get install -y -qq software-properties-common python-software-properties module-init-tools\r\n",
        "!add-apt-repository -y ppa:alessandro-strada/ppa 2>&1 > /dev/null\r\n",
        "!apt-get update -qq 2>&1 > /dev/null\r\n",
        "!apt-get -y install -qq google-drive-ocamlfuse fuse\r\n",
        "\r\n",
        "from google.colab import auth\r\n",
        "auth.authenticate_user()\r\n",
        "from oauth2client.client import GoogleCredentials\r\n",
        "creds = GoogleCredentials.get_application_default()\r\n",
        "import getpass\r\n",
        "\r\n",
        "!google-drive-ocamlfuse -headless -id={creds.client_id} -secret={creds.client_secret} < /dev/null 2>&1 | grep URL\r\n",
        "vcode = getpass.getpass()\r\n",
        "!echo {vcode} | google-drive-ocamlfuse -headless -id={creds.client_id} -secret={creds.client_secret}"
      ],
      "execution_count": 2,
      "outputs": [
        {
          "output_type": "stream",
          "text": [
            "E: Package 'python-software-properties' has no installation candidate\n",
            "Selecting previously unselected package google-drive-ocamlfuse.\n",
            "(Reading database ... 144865 files and directories currently installed.)\n",
            "Preparing to unpack .../google-drive-ocamlfuse_0.7.23-0ubuntu1~ubuntu18.04.1_amd64.deb ...\n",
            "Unpacking google-drive-ocamlfuse (0.7.23-0ubuntu1~ubuntu18.04.1) ...\n",
            "Setting up google-drive-ocamlfuse (0.7.23-0ubuntu1~ubuntu18.04.1) ...\n",
            "Processing triggers for man-db (2.8.3-2ubuntu0.1) ...\n",
            "Please, open the following URL in a web browser: https://accounts.google.com/o/oauth2/auth?client_id=32555940559.apps.googleusercontent.com&redirect_uri=urn%3Aietf%3Awg%3Aoauth%3A2.0%3Aoob&scope=https%3A%2F%2Fwww.googleapis.com%2Fauth%2Fdrive&response_type=code&access_type=offline&approval_prompt=force\n",
            "··········\n",
            "Please, open the following URL in a web browser: https://accounts.google.com/o/oauth2/auth?client_id=32555940559.apps.googleusercontent.com&redirect_uri=urn%3Aietf%3Awg%3Aoauth%3A2.0%3Aoob&scope=https%3A%2F%2Fwww.googleapis.com%2Fauth%2Fdrive&response_type=code&access_type=offline&approval_prompt=force\n",
            "Please enter the verification code: Access token retrieved correctly.\n"
          ],
          "name": "stdout"
        }
      ]
    },
    {
      "cell_type": "markdown",
      "metadata": {
        "id": "onuuF1LvZ4hN"
      },
      "source": [
        "create a directory named 'drive' and link it"
      ]
    },
    {
      "cell_type": "code",
      "metadata": {
        "id": "PoQiUGuERtnD"
      },
      "source": [
        "!mkdir -p drive\r\n",
        "!google-drive-ocamlfuse drive"
      ],
      "execution_count": 3,
      "outputs": []
    },
    {
      "cell_type": "code",
      "metadata": {
        "colab": {
          "base_uri": "https://localhost:8080/"
        },
        "id": "JwOSyLfCRvrm",
        "outputId": "e98a7d87-3ce7-4e35-b885-5ff946695461"
      },
      "source": [
        "!ls\r\n"
      ],
      "execution_count": 4,
      "outputs": [
        {
          "output_type": "stream",
          "text": [
            "adc.json  drive  sample_data  test.csv\ttrain.csv\n"
          ],
          "name": "stdout"
        }
      ]
    },
    {
      "cell_type": "markdown",
      "metadata": {
        "id": "xCRg6pOYaJ77"
      },
      "source": [
        "Input training data"
      ]
    },
    {
      "cell_type": "code",
      "metadata": {
        "colab": {
          "base_uri": "https://localhost:8080/"
        },
        "id": "Tro4h34ESM3k",
        "outputId": "017efb6c-feb5-4a18-d2d1-c309c68f50bc"
      },
      "source": [
        "train_df = pd.read_csv('drive/Colab Notebooks/train.csv')\r\n",
        "np.random.shuffle(train_df.values)\r\n",
        "print(train_df.head())"
      ],
      "execution_count": 12,
      "outputs": [
        {
          "output_type": "stream",
          "text": [
            "          x         y  color\n",
            "0  2.513819  3.599937    0.0\n",
            "1  1.544729  2.422221    0.0\n",
            "2  3.976169  4.823713    0.0\n",
            "3  1.574778  0.429665    1.0\n",
            "4  0.413381  1.190833    0.0\n"
          ],
          "name": "stdout"
        }
      ]
    },
    {
      "cell_type": "markdown",
      "metadata": {
        "id": "EM0l9zjkTXhu"
      },
      "source": [
        "Neural Network\r\n",
        "\r\n",
        "*See the keras documentaion for detailed explanation*\r\n",
        "\r\n",
        "\r\n",
        "1.   **Sequential** - To define the whole network\r\n",
        "2.   **Dense** - To define the layers\r\n",
        "3.   **Compile** - To compile with proper optimizer and loss calcuation\r\n",
        "\r\n"
      ]
    },
    {
      "cell_type": "code",
      "metadata": {
        "colab": {
          "base_uri": "https://localhost:8080/"
        },
        "id": "4nX1B9l6TW1Z",
        "outputId": "94529cb4-65ae-4d5b-a2df-81c111654856"
      },
      "source": [
        "model = keras.Sequential([\r\n",
        "                          keras.layers.Dense(4, input_shape=(2,), activation='relu'),\r\n",
        "                          keras.layers.Dense(2, activation='sigmoid')\r\n",
        "])\r\n",
        "\r\n",
        "model.compile(optimizer='adam', loss=keras.losses.SparseCategoricalCrossentropy(from_logits=True),\r\n",
        "              metrics=['accuracy'])\r\n",
        "x = np.column_stack((train_df.x.values, train_df.y.values))\r\n",
        "model.fit(x, train_df.color.values, batch_size=4, epochs = 5)\r\n",
        "\r\n",
        "test_df = pd.read_csv('drive/Colab Notebooks/test.csv')\r\n",
        "test_x = np.column_stack((test_df.x.values, test_df.y.values))\r\n",
        "\r\n",
        "model.evaluate(test_x,test_df.color.values )"
      ],
      "execution_count": 20,
      "outputs": [
        {
          "output_type": "stream",
          "text": [
            "Epoch 1/5\n",
            "1000/1000 [==============================] - 1s 847us/step - loss: 0.6344 - accuracy: 0.6967\n",
            "Epoch 2/5\n",
            "1000/1000 [==============================] - 1s 821us/step - loss: 0.5182 - accuracy: 0.9647\n",
            "Epoch 3/5\n",
            "1000/1000 [==============================] - 1s 815us/step - loss: 0.3813 - accuracy: 0.9980\n",
            "Epoch 4/5\n",
            "1000/1000 [==============================] - 1s 834us/step - loss: 0.3316 - accuracy: 0.9998\n",
            "Epoch 5/5\n",
            "1000/1000 [==============================] - 1s 870us/step - loss: 0.3223 - accuracy: 1.0000\n",
            "32/32 [==============================] - 0s 888us/step - loss: 0.3198 - accuracy: 1.0000\n"
          ],
          "name": "stdout"
        },
        {
          "output_type": "execute_result",
          "data": {
            "text/plain": [
              "[0.31982311606407166, 1.0]"
            ]
          },
          "metadata": {
            "tags": []
          },
          "execution_count": 20
        }
      ]
    },
    {
      "cell_type": "code",
      "metadata": {
        "id": "uyn9qgEPYFtL"
      },
      "source": [
        ""
      ],
      "execution_count": null,
      "outputs": []
    },
    {
      "cell_type": "code",
      "metadata": {
        "id": "83Qh3NGKS_zZ"
      },
      "source": [
        ""
      ],
      "execution_count": null,
      "outputs": []
    }
  ]
}